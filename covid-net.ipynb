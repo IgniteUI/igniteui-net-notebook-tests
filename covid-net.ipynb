{
  "cells": [
    {
      "cell_type": "code",
      "execution_count": 1,
      "metadata": {
        "dotnet_interactive": {
          "language": "html"
        }
      },
      "source": [
        "<script type=\"importmap-shim\">\n",
        "{\n",
        "  \"imports\": {\n",
        "    \"igniteui-webcomponents-charts\": \"https://unpkg.com/igniteui-webcomponents-charts@1.2.1/fesm2015/igniteui-webcomponents-charts.js\",\n",
        "   \"igniteui-webcomponents-grids\": \"https://unpkg.com/igniteui-webcomponents-grids@1.2.1/fesm2015/igniteui-webcomponents-grids.js\",\n",
        "     \"igniteui-webcomponents-layouts\": \"https://unpkg.com/igniteui-webcomponents-layouts@1.2.1/fesm2015/igniteui-webcomponents-layouts.js\",\n",
        "      \"igniteui-webcomponents-inputs\": \"https://unpkg.com/igniteui-webcomponents-inputs@1.2.1/fesm2015/igniteui-webcomponents-inputs.js\",\n",
        "    \"igniteui-webcomponents-core\": \"https://unpkg.com/igniteui-webcomponents-core@1.2.1/fesm2015/igniteui-webcomponents-core.js\",\n",
        "    \"lit-html\"\": \"\"https://unpkg.com/lit-html@1.3.0/lit-html.js\"\n",
        "  }\n",
        "}\n",
        "</script>\n",
        "<script type=\"module-shim\">\n",
        "import * as igCore from 'igniteui-webcomponents-core';\n",
        "import * as igCharts from 'igniteui-webcomponents-charts';\n",
        "import * as igGrids from 'igniteui-webcomponents-grids';\n",
        "\n",
        "if (!window.igCore) {\n",
        "  window.igCore = igCore;\n",
        "  window.igCharts = igCharts;\n",
        "  igCore.ModuleManager.register(\n",
        "  igCharts.IgcCategoryChartModule,\n",
        "  igCharts.IgcLegendModule,\n",
        "  igGrids.IgcDataGridModule);\n",
        "}\n",
        "</script>\n",
        "<script crossorigin=\"anonymous\" src=\"https://unpkg.com/es-module-shims@0.9.0/dist/es-module-shims.js\"></script>"
      ],
      "outputs": [
        {
          "output_type": "execute_result",
          "data": {
            "text/html": "<script type=\"importmap-shim\">\r\n{\r\n  \"imports\": {\r\n    \"igniteui-webcomponents-charts\": \"https://unpkg.com/igniteui-webcomponents-charts@1.2.1/fesm2015/igniteui-webcomponents-charts.js\",\r\n   \"igniteui-webcomponents-grids\": \"https://unpkg.com/igniteui-webcomponents-grids@1.2.1/fesm2015/igniteui-webcomponents-grids.js\",\r\n     \"igniteui-webcomponents-layouts\": \"https://unpkg.com/igniteui-webcomponents-layouts@1.2.1/fesm2015/igniteui-webcomponents-layouts.js\",\r\n      \"igniteui-webcomponents-inputs\": \"https://unpkg.com/igniteui-webcomponents-inputs@1.2.1/fesm2015/igniteui-webcomponents-inputs.js\",\r\n    \"igniteui-webcomponents-core\": \"https://unpkg.com/igniteui-webcomponents-core@1.2.1/fesm2015/igniteui-webcomponents-core.js\",\r\n    \"lit-html\"\": \"\"https://unpkg.com/lit-html@1.3.0/lit-html.js\"\r\n  }\r\n}\r\n</script>\r\n<script type=\"module-shim\">\r\nimport * as igCore from 'igniteui-webcomponents-core';\r\nimport * as igCharts from 'igniteui-webcomponents-charts';\r\nimport * as igGrids from 'igniteui-webcomponents-grids';\r\n\r\nif (!window.igCore) {\r\n  window.igCore = igCore;\r\n  window.igCharts = igCharts;\r\n  igCore.ModuleManager.register(\r\n  igCharts.IgcCategoryChartModule,\r\n  igCharts.IgcLegendModule,\r\n  igGrids.IgcDataGridModule);\r\n}\r\n</script>\r\n<script crossorigin=\"anonymous\" src=\"https://unpkg.com/es-module-shims@0.9.0/dist/es-module-shims.js\"></script>"
          },
          "execution_count": 1,
          "metadata": {}
        }
      ]
    },
    {
      "cell_type": "markdown",
      "metadata": {},
      "source": [
        "Next we create a helper method that aids in creating charts."
      ]
    },
    {
      "cell_type": "code",
      "execution_count": 1,
      "metadata": {
        "dotnet_interactive": {
          "language": "javascript"
        }
      },
      "source": [
        "notebookScope.displayChart = function(data, element, options) {\n",
        "    //data = JSON.parse(data);\n",
        "    if (options[\"extractTitle\"]) {\n",
        "        for (var i = 0; i < data.length; i++) {\n",
        "            if (data[i].length > 0) {\n",
        "                data[i].title = data[i][0][options[\"extractTitle\"]];            \n",
        "            }\n",
        "        }\n",
        "        \n",
        "    }\n",
        "    var chart = document.createElement(\"igc-category-chart\");\n",
        "    chart.style.margin = \"30px\";\n",
        "    chart.width = \"450px\";\n",
        "    chart.height = \"300px\";\n",
        "    for (var p in options) {\n",
        "        chart[p] = options[p];\n",
        "    }\n",
        "    chart.dataSource = data;\n",
        "    \n",
        "    element.append(chart);\n",
        "}"
      ],
      "outputs": [
        {
          "output_type": "execute_result",
          "data": {
            "text/html": "<script type=\"text/javascript\">if (typeof window.createDotnetInteractiveClient === typeof Function) {\r\ncreateDotnetInteractiveClient('http://localhost:54350/').then(function (interactive) {\r\nlet notebookScope = getDotnetInteractiveScope('http://localhost:54350/');\r\nnotebookScope.displayChart = function(data, element, options) {\n    //data = JSON.parse(data);\n    if (options[\"extractTitle\"]) {\n        for (var i = 0; i < data.length; i++) {\n            if (data[i].length > 0) {\n                data[i].title = data[i][0][options[\"extractTitle\"]];            \n            }\n        }\n        \n    }\n    var chart = document.createElement(\"igc-category-chart\");\n    chart.style.margin = \"30px\";\n    chart.width = \"450px\";\n    chart.height = \"300px\";\n    for (var p in options) {\n        chart[p] = options[p];\n    }\n    chart.dataSource = data;\n    \n    element.append(chart);\n}\r\n});\r\n}</script>"
          },
          "execution_count": 1,
          "metadata": {}
        }
      ]
    },
    {
      "cell_type": "markdown",
      "metadata": {},
      "source": [
        "Next we create a helper method that aids in creating grids."
      ]
    },
    {
      "cell_type": "code",
      "execution_count": 1,
      "metadata": {
        "dotnet_interactive": {
          "language": "javascript"
        }
      },
      "source": [
        "notebookScope.displayGrid = function(data, element, options) {\n",
        "    var flattened = [];\n",
        "    //data = JSON.parse(data);\n",
        "    if (data.length > 0 && data[0].length > 0) {\n",
        "        for (var i = 0; i < data.length; i++) {\n",
        "            for (var j = 0; j < data[i].length; j++) {\n",
        "                flattened.push(data[i][j]);\n",
        "            }\n",
        "        }\n",
        "    }\n",
        "\n",
        "    var grid = document.createElement(\"igc-data-grid\");\n",
        "    grid.width = \"450px\";\n",
        "    grid.height = \"300px\";\n",
        "    \n",
        "    for (var p in options) {\n",
        "        grid[p] = options[p];\n",
        "    }\n",
        "    grid.dataSource = flattened;\n",
        "    \n",
        "    element.append(grid);\n",
        "}"
      ],
      "outputs": [
        {
          "output_type": "execute_result",
          "data": {
            "text/html": "<script type=\"text/javascript\">if (typeof window.createDotnetInteractiveClient === typeof Function) {\r\ncreateDotnetInteractiveClient('http://localhost:54350/').then(function (interactive) {\r\nlet notebookScope = getDotnetInteractiveScope('http://localhost:54350/');\r\nnotebookScope.displayGrid = function(data, element, options) {\n    var flattened = [];\n    //data = JSON.parse(data);\n    if (data.length > 0 && data[0].length > 0) {\n        for (var i = 0; i < data.length; i++) {\n            for (var j = 0; j < data[i].length; j++) {\n                flattened.push(data[i][j]);\n            }\n        }\n    }\n\n    var grid = document.createElement(\"igc-data-grid\");\n    grid.width = \"450px\";\n    grid.height = \"300px\";\n    \n    for (var p in options) {\n        grid[p] = options[p];\n    }\n    grid.dataSource = flattened;\n    \n    element.append(grid);\n}\r\n});\r\n}</script>"
          },
          "execution_count": 1,
          "metadata": {}
        }
      ]
    },
    {
      "cell_type": "markdown",
      "metadata": {},
      "source": [
        "Next we download and process this [Covid Data](https://raw.githubusercontent.com/nytimes/covid-19-data/master/us-states.csv) and display the deaths by state."
      ]
    },
    {
      "cell_type": "code",
      "execution_count": 1,
      "metadata": {
        "dotnet_interactive": {
          "language": "csharp"
        }
      },
      "source": [
        "public class CovidData\n",
        "{\n",
        "    public string State { get; set; }\n",
        "    public double Cases { get; set; }\n",
        "    public double Deaths { get; set; }\n",
        "    public string Date { get; set; }\n",
        "}"
      ],
      "outputs": []
    },
    {
      "cell_type": "code",
      "execution_count": 1,
      "metadata": {
        "dotnet_interactive": {
          "language": "csharp"
        }
      },
      "source": [
        "#r \"nuget:CsvHelper\"\n",
        "using CsvHelper;\n",
        "using CsvHelper.Configuration;\n",
        "using System.IO;\n",
        "using System.Globalization;\n",
        "using System.Collections.Generic;\n",
        "using System.Net;\n",
        "using System.Linq;\n",
        "using System.Text.Json;\n",
        "using System.Text.Json.Serialization;\n",
        "\n",
        "IEnumerable<CovidData> records;\n",
        "HttpWebRequest req = (HttpWebRequest)WebRequest.Create(\"https://raw.githubusercontent.com/nytimes/covid-19-data/master/us-states.csv\");\n",
        "HttpWebResponse resp = (HttpWebResponse)req.GetResponse();\n",
        "\n",
        "using (StreamReader sr = new StreamReader(resp.GetResponseStream()))\n",
        "{\n",
        "    var config = new CsvConfiguration(CultureInfo.InvariantCulture)\n",
        "    {\n",
        "        PrepareHeaderForMatch = args => args.Header.ToLower(),\n",
        "    };\n",
        "    using (var csv = new CsvReader(sr, config))\n",
        "    {\n",
        "        records = csv.GetRecords<CovidData>().ToList();\n",
        "    }\n",
        "}\n",
        "\n",
        "var allDates = (from item in records\n",
        "                    orderby item.Date\n",
        "                    select item.Date);\n",
        "var datesSet = new HashSet<string>();\n",
        "foreach (var date in allDates) { datesSet.Add(date); }\n",
        "\n",
        "var byState = (from item in records\n",
        "                orderby item.Date\n",
        "                where item.State != \"District of Columbia\" && item.State != \"Virgin Islands\" &&\n",
        "                item.State != \"Guam\" && item.State != \"Northern Mariana Islands\" &&\n",
        "                item.State != \"Puerto Rico\"\n",
        "                group item by item.State into g\n",
        "                select g.ToList());\n",
        "\n",
        "var filledInStates = new List<List<CovidData>>();\n",
        "foreach (var stateData in byState) \n",
        "{\n",
        "    var state = stateData.First().State;\n",
        "    var filledIn = (from date in datesSet\n",
        "        join stateItem in stateData on date equals stateItem.Date into lj\n",
        "        from subItem in lj.DefaultIfEmpty()\n",
        "        select new CovidData() { \n",
        "            Date = date, \n",
        "            State = state, \n",
        "            Deaths = (subItem != null ? subItem.Deaths : 0),\n",
        "            Cases = (subItem != null ? subItem.Cases : 0) \n",
        "            }).ToList();\n",
        "    filledInStates.Add(filledIn);\n",
        "}\n",
        ""
      ],
      "outputs": []
    },
    {
      "cell_type": "code",
      "execution_count": 1,
      "metadata": {
        "dotnet_interactive": {
          "language": "html"
        }
      },
      "source": [
        "<div id=\"chartDeaths\" style=\"background-color: white; float: left\"></div>\n",
        "\n",
        "#!javascript\n",
        "\n",
        "var data = interactive.csharp.getVariable(\"filledInStates\");\n",
        "data.then((d) => {\n",
        "    notebookScope.displayChart(d, document.getElementById(\"chartDeaths\"), { chartTitle: 'covid deaths by state', excludedProperties: ['*Cases', '*Fips'], extractTitle: 'State' })\n",
        "});"
      ],
      "outputs": [
        {
          "output_type": "execute_result",
          "data": {
            "text/html": "<div id=\"chartDeaths\" style=\"background-color: white; float: left\"></div>\r\n\r\n"
          },
          "execution_count": 1,
          "metadata": {}
        },
        {
          "output_type": "execute_result",
          "data": {
            "text/html": "<script type=\"text/javascript\">if (typeof window.createDotnetInteractiveClient === typeof Function) {\r\ncreateDotnetInteractiveClient('http://localhost:54350/').then(function (interactive) {\r\nlet notebookScope = getDotnetInteractiveScope('http://localhost:54350/');\r\n\r\n\r\nvar data = interactive.csharp.getVariable(\"filledInStates\");\r\ndata.then((d) => {\r\n    notebookScope.displayChart(d, document.getElementById(\"chartDeaths\"), { chartTitle: 'covid deaths by state', excludedProperties: ['*Cases', '*Fips'], extractTitle: 'State' })\r\n});\r\n});\r\n}</script>"
          },
          "execution_count": 1,
          "metadata": {}
        }
      ]
    },
    {
      "cell_type": "code",
      "execution_count": 1,
      "metadata": {
        "dotnet_interactive": {
          "language": "html"
        }
      },
      "source": [
        "<div id=\"chartCases\" style=\"background-color: white; float: left\"></div>\n",
        "\n",
        "#!javascript\n",
        "\n",
        "var data = interactive.csharp.getVariable(\"filledInStates\");\n",
        "data.then((d) => {\n",
        "    notebookScope.displayChart(d, document.getElementById(\"chartCases\"), { chartTitle: 'covid cases by state', excludedProperties: ['*Deaths', '*Fips'], extractTitle: 'State' })\n",
        "});"
      ],
      "outputs": [
        {
          "output_type": "execute_result",
          "data": {
            "text/html": "<div id=\"chartCases\" style=\"background-color: white; float: left\"></div>\r\n\r\n"
          },
          "execution_count": 1,
          "metadata": {}
        },
        {
          "output_type": "execute_result",
          "data": {
            "text/html": "<script type=\"text/javascript\">if (typeof window.createDotnetInteractiveClient === typeof Function) {\r\ncreateDotnetInteractiveClient('http://localhost:54350/').then(function (interactive) {\r\nlet notebookScope = getDotnetInteractiveScope('http://localhost:54350/');\r\n\r\n\r\nvar data = interactive.csharp.getVariable(\"filledInStates\");\r\ndata.then((d) => {\r\n    notebookScope.displayChart(d, document.getElementById(\"chartCases\"), { chartTitle: 'covid cases by state', excludedProperties: ['*Deaths', '*Fips'], extractTitle: 'State' })\r\n});\r\n});\r\n}</script>"
          },
          "execution_count": 1,
          "metadata": {}
        }
      ]
    },
    {
      "cell_type": "code",
      "execution_count": 1,
      "metadata": {
        "dotnet_interactive": {
          "language": "html"
        }
      },
      "source": [
        "<div id=\"gridData\" style=\"background-color: white; float: left\"></div>\n",
        "\n",
        "#!javascript\n",
        "\n",
        "var data = interactive.csharp.getVariable(\"filledInStates\");\n",
        "data.then((d) => {\n",
        "    notebookScope.displayGrid(d, document.getElementById(\"gridData\"), { defaultColumnMinWidth: 150 })\n",
        "});"
      ],
      "outputs": [
        {
          "output_type": "execute_result",
          "data": {
            "text/html": "<div id=\"gridData\" style=\"background-color: white; float: left\"></div>\r\n\r\n"
          },
          "execution_count": 1,
          "metadata": {}
        },
        {
          "output_type": "execute_result",
          "data": {
            "text/html": "<script type=\"text/javascript\">if (typeof window.createDotnetInteractiveClient === typeof Function) {\r\ncreateDotnetInteractiveClient('http://localhost:54350/').then(function (interactive) {\r\nlet notebookScope = getDotnetInteractiveScope('http://localhost:54350/');\r\n\r\n\r\nvar data = interactive.csharp.getVariable(\"filledInStates\");\r\ndata.then((d) => {\r\n    notebookScope.displayGrid(d, document.getElementById(\"gridData\"), { defaultColumnMinWidth: 150 })\r\n});\r\n});\r\n}</script>"
          },
          "execution_count": 1,
          "metadata": {}
        }
      ]
    }
  ],
  "metadata": {
    "kernelspec": {
      "display_name": ".NET (C#)",
      "language": "C#",
      "name": ".net-csharp"
    },
    "language_info": {
      "file_extension": ".cs",
      "mimetype": "text/x-csharp",
      "name": "C#",
      "pygments_lexer": "csharp",
      "version": "8.0"
    }
  },
  "nbformat": 4,
  "nbformat_minor": 4
}